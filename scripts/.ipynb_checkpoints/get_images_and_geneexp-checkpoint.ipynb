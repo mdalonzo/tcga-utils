{
 "cells": [
  {
   "cell_type": "code",
   "execution_count": 2,
   "metadata": {},
   "outputs": [],
   "source": [
    "import pandas as pd\n",
    "import requests\n",
    "import json\n",
    "import re"
   ]
  },
  {
   "cell_type": "markdown",
   "metadata": {},
   "source": [
    "Get all svs"
   ]
  },
  {
   "cell_type": "code",
   "execution_count": 15,
   "metadata": {},
   "outputs": [],
   "source": [
    "files_endpt = \"https://api.gdc.cancer.gov/files\"\n",
    "\n",
    "filters={\n",
    "        \"op\":\"in\",\n",
    "        \"content\":{\n",
    "            \"field\":\"files.data_type\",\n",
    "            \"value\":\"Slide Image\"\n",
    "                }\n",
    "        }\n",
    "\n",
    "# Here a GET is used, so the filter parameters should be passed as a JSON string.\n",
    "\n",
    "params = {\n",
    "    \"filters\": json.dumps(filters),\n",
    "    \"fields\": \"file_id\",\n",
    "    \"format\": \"JSON\",\n",
    "    \"size\": \"3\" #need to change in order to download all relevant files\n",
    "    }\n",
    "\n",
    "response = requests.get(files_endpt, params = params)\n",
    "\n",
    "file_uuid_list = []\n",
    "\n",
    "# This step populates the download list with the file_ids from the previous query\n",
    "for file_entry in json.loads(response.content.decode(\"utf-8\"))[\"data\"][\"hits\"]:\n",
    "    file_uuid_list.append(file_entry[\"file_id\"])"
   ]
  },
  {
   "cell_type": "code",
   "execution_count": 16,
   "metadata": {},
   "outputs": [
    {
     "data": {
      "text/plain": [
       "3"
      ]
     },
     "execution_count": 16,
     "metadata": {},
     "output_type": "execute_result"
    }
   ],
   "source": [
    "len(file_uuid_list)"
   ]
  },
  {
   "cell_type": "code",
   "execution_count": 17,
   "metadata": {},
   "outputs": [
    {
     "data": {
      "text/plain": [
       "['e29cb891-954f-4f98-8c62-e67465f67a3c',\n",
       " 'b3acafb9-7abe-478a-9795-a09d31229f03',\n",
       " '5dfcdf0d-eeb2-488f-b1d7-daf063131e62']"
      ]
     },
     "execution_count": 17,
     "metadata": {},
     "output_type": "execute_result"
    }
   ],
   "source": [
    "file_uuid_list"
   ]
  },
  {
   "cell_type": "markdown",
   "metadata": {},
   "source": [
    "Download files"
   ]
  },
  {
   "cell_type": "code",
   "execution_count": 18,
   "metadata": {},
   "outputs": [],
   "source": [
    "#try not to run this cell when file_uuid_list=30k\n",
    "data_endpt = \"https://api.gdc.cancer.gov/data\"\n",
    "\n",
    "params = {\"ids\": file_uuid_list}\n",
    "\n",
    "response = requests.post(data_endpt, data = json.dumps(params), headers = {\"Content-Type\": \"application/json\"})\n",
    "\n",
    "response_head_cd = response.headers[\"Content-Disposition\"]\n",
    "\n",
    "file_name = re.findall(\"filename=(.+)\", response_head_cd)[0]\n",
    "\n",
    "with open(file_name, \"wb\") as output_file:\n",
    "    output_file.write(response.content)"
   ]
  },
  {
   "cell_type": "markdown",
   "metadata": {},
   "source": [
    "Get case IDs from manifest file"
   ]
  },
  {
   "cell_type": "code",
   "execution_count": 30,
   "metadata": {},
   "outputs": [
    {
     "name": "stderr",
     "output_type": "stream",
     "text": [
      "//anaconda3/lib/python3.7/site-packages/ipykernel_launcher.py:9: SettingWithCopyWarning: \n",
      "A value is trying to be set on a copy of a slice from a DataFrame\n",
      "\n",
      "See the caveats in the documentation: http://pandas.pydata.org/pandas-docs/stable/indexing.html#indexing-view-versus-copy\n",
      "  if __name__ == '__main__':\n"
     ]
    },
    {
     "data": {
      "text/plain": [
       "['TCGA-37-4130', 'TCGA-56-8622', 'TCGA-77-8153']"
      ]
     },
     "execution_count": 30,
     "metadata": {},
     "output_type": "execute_result"
    }
   ],
   "source": [
    "#manifest file is found in compressed folder from svs download\n",
    "#folder name is always different but manifest is always 'MANIFEST.txt'\n",
    "manifest_file = 'gdc_download_20191203_044433.458784/MANIFEST.txt'\n",
    "\n",
    "csv_table=pd.read_csv(manifest_file,sep='\\t')\n",
    "csv_table.to_csv('case_IDs.csv',index=False)\n",
    "df = pd.read_csv('case_IDs.csv')\n",
    "\n",
    "for i in range(0,len(df)):\n",
    "    df['filename'][i] = df['filename'][i][37:49]\n",
    "    \n",
    "case_ids = df['filename'].unique()\n",
    "case_ids = case_ids.tolist()\n",
    "case_ids"
   ]
  },
  {
   "cell_type": "markdown",
   "metadata": {},
   "source": [
    "Use case_ids to get annotation files"
   ]
  },
  {
   "cell_type": "code",
   "execution_count": 31,
   "metadata": {},
   "outputs": [],
   "source": [
    "files_endpt = \"https://api.gdc.cancer.gov/files\"\n",
    "\n",
    "filters={\n",
    "        \"op\":\"and\",\n",
    "        \"content\":[\n",
    "            {\n",
    "                \"op\":\"in\",\n",
    "                \"content\":{\n",
    "                    \"field\":\"cases.submitter_id\",\n",
    "                    \"value\":case_ids\n",
    "                }\n",
    "            },\n",
    "            {\n",
    "                \"op\":\"in\",\n",
    "                \"content\":{\n",
    "                    \"field\":\"files.data_type\",\n",
    "                    \"value\":\"Gene Expression Quantification\"\n",
    "                }\n",
    "            }\n",
    "        ]\n",
    "        }\n",
    "\n",
    "# Here a GET is used, so the filter parameters should be passed as a JSON string.\n",
    "\n",
    "params = {\n",
    "    \"filters\": json.dumps(filters),\n",
    "    \"fields\": \"file_id\",\n",
    "    \"format\": \"JSON\",\n",
    "    \"size\": \"1000\" #need to change in order to download all relevant files\n",
    "    }\n",
    "\n",
    "response = requests.get(files_endpt, params = params)\n",
    "\n",
    "file_uuid_list_exp = []\n",
    "\n",
    "# This step populates the download list with the file_ids from the previous query\n",
    "for file_entry in json.loads(response.content.decode(\"utf-8\"))[\"data\"][\"hits\"]:\n",
    "    file_uuid_list_exp.append(file_entry[\"file_id\"])"
   ]
  },
  {
   "cell_type": "code",
   "execution_count": 32,
   "metadata": {},
   "outputs": [
    {
     "data": {
      "text/plain": [
       "['8e27a9f9-435f-40ba-ba6c-0ae9088cabdc',\n",
       " '0e18c31d-a77d-41d6-933c-fc3df610a818',\n",
       " '8e93c97e-895b-4ce5-ad84-128a1b28a0c2',\n",
       " 'a48d7bff-2118-497a-9d97-82775473f968',\n",
       " '6c9d1cdf-d96e-4a12-ad3a-82e4d6eab0eb',\n",
       " 'b95942e1-6858-4e86-84c9-a0a6758042d7',\n",
       " '95b9ec4f-ed2b-4e34-97ef-cc6623fead59',\n",
       " '0b0271cf-a55d-4ff9-84ce-0bbab190463e',\n",
       " 'a3ada9fb-2c63-4788-aeec-caa629bcd836']"
      ]
     },
     "execution_count": 32,
     "metadata": {},
     "output_type": "execute_result"
    }
   ],
   "source": [
    "file_uuid_list_exp"
   ]
  },
  {
   "cell_type": "code",
   "execution_count": null,
   "metadata": {},
   "outputs": [],
   "source": [
    "data_endpt = \"https://api.gdc.cancer.gov/data\"\n",
    "\n",
    "params = {\"ids\": file_uuid_list_exp}\n",
    "\n",
    "response = requests.post(data_endpt, data = json.dumps(params), headers = {\"Content-Type\": \"application/json\"})\n",
    "\n",
    "response_head_cd = response.headers[\"Content-Disposition\"]\n",
    "\n",
    "file_name = re.findall(\"filename=(.+)\", response_head_cd)[0]\n",
    "\n",
    "with open(file_name, \"wb\") as output_file:\n",
    "    output_file.write(response.content)"
   ]
  }
 ],
 "metadata": {
  "kernelspec": {
   "display_name": "Python 3",
   "language": "python",
   "name": "python3"
  },
  "language_info": {
   "codemirror_mode": {
    "name": "ipython",
    "version": 3
   },
   "file_extension": ".py",
   "mimetype": "text/x-python",
   "name": "python",
   "nbconvert_exporter": "python",
   "pygments_lexer": "ipython3",
   "version": "3.6.8"
  }
 },
 "nbformat": 4,
 "nbformat_minor": 4
}
