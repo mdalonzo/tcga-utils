{
 "cells": [
  {
   "cell_type": "code",
   "execution_count": 1,
   "metadata": {},
   "outputs": [],
   "source": [
    "import pandas as pd\n",
    "import requests\n",
    "import json\n",
    "import re"
   ]
  },
  {
   "cell_type": "code",
   "execution_count": 63,
   "metadata": {},
   "outputs": [],
   "source": [
    "def get_uuids_of_svs_files():\n",
    "    files_endpt = \"https://api.gdc.cancer.gov/files\"\n",
    "\n",
    "    filters={\n",
    "            \"op\":\"in\",\n",
    "            \"content\":{\n",
    "                \"field\":\"files.data_type\",\n",
    "                \"value\":\"Slide Image\"\n",
    "                    }\n",
    "            }\n",
    "\n",
    "    # Here a GET is used, so the filter parameters should be passed as a JSON string.\n",
    "\n",
    "    params = {\n",
    "        \"filters\": json.dumps(filters),\n",
    "        \"fields\": \"file_id\",\n",
    "        \"format\": \"JSON\",\n",
    "        \"size\": \"3\" #need to change in order to download all relevant files\n",
    "        }\n",
    "\n",
    "    response = requests.get(files_endpt, params = params)\n",
    "\n",
    "    uuids = []\n",
    "\n",
    "    # This step populates the download list with the file_ids from the previous query\n",
    "    for file_entry in json.loads(response.content.decode(\"utf-8\"))[\"data\"][\"hits\"]:\n",
    "        uuids.append(file_entry[\"file_id\"])\n",
    "    \n",
    "    return uuids\n",
    "\n",
    "def load_manifest_file(manifest_file):\n",
    "    \"\"\" \n",
    "    Parse manifest file, return pandas dataframe\n",
    "    \"\"\"\n",
    "    df = pd.read_csv(manifest_file, sep='\\t')\n",
    "    return df\n",
    "\n",
    "def download_by_uuids(uuids):\n",
    "    \"\"\"\n",
    "    Download data given uuids, return filename\n",
    "    \"\"\"\n",
    "    if isinstance(uuids, str):\n",
    "        uuids = list(uuids)\n",
    "    elif isinstance(uuids, list):\n",
    "        pass\n",
    "    else:\n",
    "        raise ValueError('uuids should be either a string or a list')\n",
    "        \n",
    "    endpoint = 'https://api.gdc.cancer.gov/data'\n",
    "    params = {'ids': uuids}\n",
    "    response = requests.post(endpoint, \n",
    "                             data=json.dumps(params),\n",
    "                             headers = {\"Content-Type\": \"application/json\"})\n",
    "\n",
    "    for key in response.headers.keys():\n",
    "        print(key, response.headers[key])\n",
    "    response_head_cd = response.headers['Content-Disposition']\n",
    "    file_name = re.findall('filename=(.+)', response_head_cd)[0]\n",
    "    \n",
    "    with open(file_name, \"wb\") as output_file:\n",
    "        output_file.write(response.content)\n",
    "        \n",
    "    return file_name\n",
    "\n",
    "def curate_wsi(svs_file):\n",
    "    \"\"\"\n",
    "    Converts whole slide image into a more \n",
    "    ML friendly format\n",
    "    \"\"\"\n",
    "    \n",
    "    return images\n",
    "\n",
    "class TCGADataset(object):\n",
    "    def __init__(self, uuid):\n",
    "        return None"
   ]
  },
  {
   "cell_type": "code",
   "execution_count": 64,
   "metadata": {},
   "outputs": [],
   "source": [
    "df = load_manifest_file('/libraries/TCGA/manifest/gdc_manifest.2020-01-07.txt')"
   ]
  },
  {
   "cell_type": "code",
   "execution_count": 65,
   "metadata": {},
   "outputs": [
    {
     "name": "stdout",
     "output_type": "stream",
     "text": [
      "75291120-80c3-4cb6-b503-e3566a8946f4\n"
     ]
    }
   ],
   "source": [
    "print(df['id'][0])"
   ]
  },
  {
   "cell_type": "code",
   "execution_count": 66,
   "metadata": {},
   "outputs": [
    {
     "name": "stdout",
     "output_type": "stream",
     "text": [
      "0        75291120-80c3-4cb6-b503-e3566a8946f4\n",
      "1        0d52d897-926a-4c8e-8e5e-43eb705a25c5\n",
      "2        15b476d5-8f71-4e7d-a687-c6e25362bf05\n",
      "3        9fdf8edc-3e4b-4602-989c-2513cc38dac6\n",
      "4        304ee734-f5ae-4992-84f6-7c3ab3b78e40\n",
      "                         ...                 \n",
      "30067    2ec03c2a-3cb4-473c-b30f-30ae3feee13a\n",
      "30068    83446a9f-ed11-4106-9ac8-972286c8c6fa\n",
      "30069    4be21756-bc78-45eb-87ac-4499618065b7\n",
      "30070    a5328381-231d-437e-9bf7-35d59f86f979\n",
      "30071    c9704fec-8051-4ac1-8409-a31de4a53388\n",
      "Name: id, Length: 30072, dtype: object\n"
     ]
    }
   ],
   "source": [
    "print(df['id'])"
   ]
  },
  {
   "cell_type": "code",
   "execution_count": 67,
   "metadata": {},
   "outputs": [
    {
     "name": "stdout",
     "output_type": "stream",
     "text": [
      "Date Tue, 07 Jan 2020 23:39:31 GMT\n",
      "Server Apache\n",
      "Content-Length 30\n",
      "Access-Control-Allow-Origin *\n",
      "Access-Control-Allow-Headers Content-Type, X-CSRFToken, X-Requested-With\n",
      "Access-Control-Expose-Headers Content-Disposition\n",
      "Keep-Alive timeout=5, max=100\n",
      "Connection Keep-Alive\n",
      "Content-Type application/json\n",
      "X-Frame-Options SAMEORIGIN\n",
      "Strict-Transport-Security max-age=63072001; includeSubdomains; preload\n"
     ]
    },
    {
     "ename": "KeyError",
     "evalue": "'content-disposition'",
     "output_type": "error",
     "traceback": [
      "\u001b[0;31m---------------------------------------------------------------------------\u001b[0m",
      "\u001b[0;31mKeyError\u001b[0m                                  Traceback (most recent call last)",
      "\u001b[0;32m<ipython-input-67-bf5a6d470ace>\u001b[0m in \u001b[0;36m<module>\u001b[0;34m\u001b[0m\n\u001b[0;32m----> 1\u001b[0;31m \u001b[0mdownload_by_uuids\u001b[0m\u001b[0;34m(\u001b[0m\u001b[0mdf\u001b[0m\u001b[0;34m[\u001b[0m\u001b[0;34m'id'\u001b[0m\u001b[0;34m]\u001b[0m\u001b[0;34m[\u001b[0m\u001b[0;36m0\u001b[0m\u001b[0;34m]\u001b[0m\u001b[0;34m)\u001b[0m\u001b[0;34m\u001b[0m\u001b[0;34m\u001b[0m\u001b[0m\n\u001b[0m",
      "\u001b[0;32m<ipython-input-63-9e544d31fee6>\u001b[0m in \u001b[0;36mdownload_by_uuids\u001b[0;34m(uuids)\u001b[0m\n\u001b[1;32m     25\u001b[0m     \u001b[0;32mfor\u001b[0m \u001b[0mkey\u001b[0m \u001b[0;32min\u001b[0m \u001b[0mresponse\u001b[0m\u001b[0;34m.\u001b[0m\u001b[0mheaders\u001b[0m\u001b[0;34m.\u001b[0m\u001b[0mkeys\u001b[0m\u001b[0;34m(\u001b[0m\u001b[0;34m)\u001b[0m\u001b[0;34m:\u001b[0m\u001b[0;34m\u001b[0m\u001b[0;34m\u001b[0m\u001b[0m\n\u001b[1;32m     26\u001b[0m         \u001b[0mprint\u001b[0m\u001b[0;34m(\u001b[0m\u001b[0mkey\u001b[0m\u001b[0;34m,\u001b[0m \u001b[0mresponse\u001b[0m\u001b[0;34m.\u001b[0m\u001b[0mheaders\u001b[0m\u001b[0;34m[\u001b[0m\u001b[0mkey\u001b[0m\u001b[0;34m]\u001b[0m\u001b[0;34m)\u001b[0m\u001b[0;34m\u001b[0m\u001b[0;34m\u001b[0m\u001b[0m\n\u001b[0;32m---> 27\u001b[0;31m     \u001b[0mresponse_head_cd\u001b[0m \u001b[0;34m=\u001b[0m \u001b[0mresponse\u001b[0m\u001b[0;34m.\u001b[0m\u001b[0mheaders\u001b[0m\u001b[0;34m[\u001b[0m\u001b[0;34m'Content-Disposition'\u001b[0m\u001b[0;34m]\u001b[0m\u001b[0;34m\u001b[0m\u001b[0;34m\u001b[0m\u001b[0m\n\u001b[0m\u001b[1;32m     28\u001b[0m     \u001b[0mfile_name\u001b[0m \u001b[0;34m=\u001b[0m \u001b[0mre\u001b[0m\u001b[0;34m.\u001b[0m\u001b[0mfindall\u001b[0m\u001b[0;34m(\u001b[0m\u001b[0;34m'filename=(.+)'\u001b[0m\u001b[0;34m,\u001b[0m \u001b[0mresponse_head_cd\u001b[0m\u001b[0;34m)\u001b[0m\u001b[0;34m[\u001b[0m\u001b[0;36m0\u001b[0m\u001b[0;34m]\u001b[0m\u001b[0;34m\u001b[0m\u001b[0;34m\u001b[0m\u001b[0m\n\u001b[1;32m     29\u001b[0m \u001b[0;34m\u001b[0m\u001b[0m\n",
      "\u001b[0;32m/usr/local/lib/python3.6/dist-packages/requests/structures.py\u001b[0m in \u001b[0;36m__getitem__\u001b[0;34m(self, key)\u001b[0m\n\u001b[1;32m     50\u001b[0m \u001b[0;34m\u001b[0m\u001b[0m\n\u001b[1;32m     51\u001b[0m     \u001b[0;32mdef\u001b[0m \u001b[0m__getitem__\u001b[0m\u001b[0;34m(\u001b[0m\u001b[0mself\u001b[0m\u001b[0;34m,\u001b[0m \u001b[0mkey\u001b[0m\u001b[0;34m)\u001b[0m\u001b[0;34m:\u001b[0m\u001b[0;34m\u001b[0m\u001b[0;34m\u001b[0m\u001b[0m\n\u001b[0;32m---> 52\u001b[0;31m         \u001b[0;32mreturn\u001b[0m \u001b[0mself\u001b[0m\u001b[0;34m.\u001b[0m\u001b[0m_store\u001b[0m\u001b[0;34m[\u001b[0m\u001b[0mkey\u001b[0m\u001b[0;34m.\u001b[0m\u001b[0mlower\u001b[0m\u001b[0;34m(\u001b[0m\u001b[0;34m)\u001b[0m\u001b[0;34m]\u001b[0m\u001b[0;34m[\u001b[0m\u001b[0;36m1\u001b[0m\u001b[0;34m]\u001b[0m\u001b[0;34m\u001b[0m\u001b[0;34m\u001b[0m\u001b[0m\n\u001b[0m\u001b[1;32m     53\u001b[0m \u001b[0;34m\u001b[0m\u001b[0m\n\u001b[1;32m     54\u001b[0m     \u001b[0;32mdef\u001b[0m \u001b[0m__delitem__\u001b[0m\u001b[0;34m(\u001b[0m\u001b[0mself\u001b[0m\u001b[0;34m,\u001b[0m \u001b[0mkey\u001b[0m\u001b[0;34m)\u001b[0m\u001b[0;34m:\u001b[0m\u001b[0;34m\u001b[0m\u001b[0;34m\u001b[0m\u001b[0m\n",
      "\u001b[0;31mKeyError\u001b[0m: 'content-disposition'"
     ]
    }
   ],
   "source": [
    "download_by_uuids(df['id'][0])"
   ]
  },
  {
   "cell_type": "code",
   "execution_count": 52,
   "metadata": {},
   "outputs": [
    {
     "name": "stdout",
     "output_type": "stream",
     "text": [
      "Content-Disposition\n"
     ]
    }
   ],
   "source": [
    "x = 'Content-Disposition'\n",
    "print(x)"
   ]
  },
  {
   "cell_type": "code",
   "execution_count": null,
   "metadata": {},
   "outputs": [],
   "source": []
  }
 ],
 "metadata": {
  "kernelspec": {
   "display_name": "Python 3",
   "language": "python",
   "name": "python3"
  },
  "language_info": {
   "codemirror_mode": {
    "name": "ipython",
    "version": 3
   },
   "file_extension": ".py",
   "mimetype": "text/x-python",
   "name": "python",
   "nbconvert_exporter": "python",
   "pygments_lexer": "ipython3",
   "version": "3.6.8"
  }
 },
 "nbformat": 4,
 "nbformat_minor": 2
}
