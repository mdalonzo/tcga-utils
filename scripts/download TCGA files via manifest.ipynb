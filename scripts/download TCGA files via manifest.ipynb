{
 "cells": [
  {
   "cell_type": "code",
   "execution_count": 1,
   "metadata": {},
   "outputs": [],
   "source": [
    "import pandas as pd\n",
    "import numpy as np\n",
    "import requests\n",
    "import json\n",
    "import re"
   ]
  },
  {
   "cell_type": "markdown",
   "metadata": {},
   "source": [
    "Read in manifest to get unique case IDs"
   ]
  },
  {
   "cell_type": "code",
   "execution_count": 5,
   "metadata": {},
   "outputs": [
    {
     "data": {
      "text/plain": [
       "['TCGA-GS-A9TQ', 'TCGA-GS-A9U3']"
      ]
     },
     "execution_count": 5,
     "metadata": {},
     "output_type": "execute_result"
    }
   ],
   "source": [
    "#tsv file is manifest file downloaded from GDC portal\n",
    "manifest = 'TCGA/gdc_sample_sheet.2019-11-15.tsv'\n",
    "\n",
    "tsv_file= manifest\n",
    "csv_table=pd.read_csv(tsv_file,sep='\\t')\n",
    "csv_table.to_csv('TCGA/gdc_sample_sheet.2019-11-15.csv',index=False)\n",
    "df = pd.read_csv('TCGA/gdc_sample_sheet.2019-11-15.csv')\n",
    "#df.head()\n",
    "\n",
    "#remove double case ids and create a case id list\n",
    "for i in range(0,len(df)):\n",
    "    if len(df['Case ID'][i]) > 12:\n",
    "        df['Case ID'][i] = df['Case ID'][i][0:12]\n",
    "case_ids = df['Case ID'].unique()\n",
    "case_ids = case_ids[0:2].tolist()\n",
    "case_ids"
   ]
  },
  {
   "cell_type": "markdown",
   "metadata": {},
   "source": [
    "The following cell uses filters to extract file IDs based on specified field, value combinations and then. The filters are split into two sections, one for each data type.\n",
    "The file IDs are then passed through the GDC server and the set of requested files is downloaded automatically."
   ]
  },
  {
   "cell_type": "code",
   "execution_count": 6,
   "metadata": {},
   "outputs": [],
   "source": [
    "files_endpt = \"https://api.gdc.cancer.gov/files\"\n",
    "\n",
    "filters={\n",
    "    \"op\":\"or\",\n",
    "    \"content\":[\n",
    "        {\n",
    "        \"op\":\"and\",\n",
    "        \"content\":[\n",
    "            {\n",
    "                \"op\":\"in\",\n",
    "                \"content\":{\n",
    "                    \"field\":\"cases.submitter_id\",\n",
    "                    \"value\":case_ids\n",
    "                }\n",
    "            },\n",
    "            {\n",
    "                \"op\":\"in\",\n",
    "                \"content\":{\n",
    "                    \"field\":\"files.data_type\",\n",
    "                    \"value\":\"Slide Image\"\n",
    "                }\n",
    "            }\n",
    "        ]\n",
    "        },\n",
    "        {\n",
    "        \"op\":\"and\",\n",
    "        \"content\":[\n",
    "            {\n",
    "                \"op\":\"in\",\n",
    "                \"content\":{\n",
    "                    \"field\":\"cases.submitter_id\",\n",
    "                    \"value\":case_ids\n",
    "                }\n",
    "            },\n",
    "            {\n",
    "                \"op\":\"in\",\n",
    "                \"content\":{\n",
    "                    \"field\":\"files.data_type\",\n",
    "                    \"value\":\"Gene Expression Quantification\"\n",
    "                }\n",
    "            }\n",
    "        ]\n",
    "        }\n",
    "    ]\n",
    "}\n",
    "\n",
    "# Here a GET is used, so the filter parameters should be passed as a JSON string.\n",
    "\n",
    "params = {\n",
    "    \"filters\": json.dumps(filters),\n",
    "    \"fields\": \"file_id\",\n",
    "    \"format\": \"JSON\",\n",
    "    \"size\": \"1000\"\n",
    "    }\n",
    "\n",
    "response = requests.get(files_endpt, params = params)\n",
    "\n",
    "file_uuid_list = []\n",
    "\n",
    "# This step populates the download list with the file_ids from the previous query\n",
    "for file_entry in json.loads(response.content.decode(\"utf-8\"))[\"data\"][\"hits\"]:\n",
    "    file_uuid_list.append(file_entry[\"file_id\"])\n",
    "\n",
    "data_endpt = \"https://api.gdc.cancer.gov/data\"\n",
    "\n",
    "params = {\"ids\": file_uuid_list}\n",
    "\n",
    "response = requests.post(data_endpt, data = json.dumps(params), headers = {\"Content-Type\": \"application/json\"})\n",
    "\n",
    "response_head_cd = response.headers[\"Content-Disposition\"]\n",
    "\n",
    "file_name = re.findall(\"filename=(.+)\", response_head_cd)[0]\n",
    "\n",
    "with open(file_name, \"wb\") as output_file:\n",
    "    output_file.write(response.content)"
   ]
  },
  {
   "cell_type": "markdown",
   "metadata": {},
   "source": [
    "Still need to sort out annotated mutation files"
   ]
  },
  {
   "cell_type": "code",
   "execution_count": 1,
   "metadata": {},
   "outputs": [
    {
     "name": "stdout",
     "output_type": "stream",
     "text": [
      "CPython 3.7.3\n",
      "IPython 7.6.1\n",
      "\n",
      "numpy 1.17.3\n",
      "pandas 0.24.2\n",
      "requests 2.22.0\n",
      "json 2.0.9\n",
      "re 2.2.1\n"
     ]
    }
   ],
   "source": [
    "%load_ext watermark\n",
    "\n",
    "%watermark -v -p numpy,pandas,requests,json,re"
   ]
  },
  {
   "cell_type": "code",
   "execution_count": null,
   "metadata": {},
   "outputs": [],
   "source": []
  }
 ],
 "metadata": {
  "kernelspec": {
   "display_name": "Python 3",
   "language": "python",
   "name": "python3"
  },
  "language_info": {
   "codemirror_mode": {
    "name": "ipython",
    "version": 3
   },
   "file_extension": ".py",
   "mimetype": "text/x-python",
   "name": "python",
   "nbconvert_exporter": "python",
   "pygments_lexer": "ipython3",
   "version": "3.7.3"
  }
 },
 "nbformat": 4,
 "nbformat_minor": 4
}
